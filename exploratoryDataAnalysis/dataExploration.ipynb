{
 "cells": [
  {
   "cell_type": "code",
   "execution_count": 2,
   "id": "f08c378c",
   "metadata": {},
   "outputs": [],
   "source": [
    "# Import all of the requried libraries\n",
    "import numpy as np\n",
    "import SimpleITK as sitk\n",
    "import matplotlib.pyplot as plt\n",
    "import pandas as pd\n",
    "# import statistics\n",
    "from statistics import mode,mean"
   ]
  },
  {
   "cell_type": "code",
   "execution_count": 3,
   "id": "84cf5c01",
   "metadata": {},
   "outputs": [],
   "source": [
    "# Read in all of the case files\n",
    "datapath = '../exploratoryDataAnalysis/'\n",
    "# Create array to store the 50 images\n",
    "data = pd.read_csv(datapath + '/labels1.csv')\n",
    "\n",
    "\n",
    "# images now contains the full dataset, where each index represents the case .mhd file"
   ]
  },
  {
   "cell_type": "code",
   "execution_count": 4,
   "id": "4ea27fdd",
   "metadata": {},
   "outputs": [
    {
     "data": {
      "text/html": [
       "<div>\n",
       "<style scoped>\n",
       "    .dataframe tbody tr th:only-of-type {\n",
       "        vertical-align: middle;\n",
       "    }\n",
       "\n",
       "    .dataframe tbody tr th {\n",
       "        vertical-align: top;\n",
       "    }\n",
       "\n",
       "    .dataframe thead th {\n",
       "        text-align: right;\n",
       "    }\n",
       "</style>\n",
       "<table border=\"1\" class=\"dataframe\">\n",
       "  <thead>\n",
       "    <tr style=\"text-align: right;\">\n",
       "      <th></th>\n",
       "      <th>FileName</th>\n",
       "      <th>Time Recorded</th>\n",
       "      <th>Tool</th>\n",
       "      <th>Overall Task</th>\n",
       "      <th>Tool bounding box</th>\n",
       "    </tr>\n",
       "  </thead>\n",
       "  <tbody>\n",
       "    <tr>\n",
       "      <th>0</th>\n",
       "      <td>AN01-20210104-154854_0000.jpg</td>\n",
       "      <td>0.021</td>\n",
       "      <td>nothing</td>\n",
       "      <td>nothing</td>\n",
       "      <td>[{'class': 'syringe', 'xmin': 482, 'ymin': 328...</td>\n",
       "    </tr>\n",
       "    <tr>\n",
       "      <th>1</th>\n",
       "      <td>AN01-20210104-154854_0001.jpg</td>\n",
       "      <td>0.279</td>\n",
       "      <td>nothing</td>\n",
       "      <td>nothing</td>\n",
       "      <td>[{'class': 'syringe', 'xmin': 482, 'ymin': 328...</td>\n",
       "    </tr>\n",
       "    <tr>\n",
       "      <th>2</th>\n",
       "      <td>AN01-20210104-154854_0002.jpg</td>\n",
       "      <td>0.400</td>\n",
       "      <td>nothing</td>\n",
       "      <td>nothing</td>\n",
       "      <td>[{'class': 'ultrasound', 'xmin': 365, 'ymin': ...</td>\n",
       "    </tr>\n",
       "    <tr>\n",
       "      <th>3</th>\n",
       "      <td>AN01-20210104-154854_0003.jpg</td>\n",
       "      <td>0.819</td>\n",
       "      <td>nothing</td>\n",
       "      <td>nothing</td>\n",
       "      <td>[{'class': 'ultrasound', 'xmin': 365, 'ymin': ...</td>\n",
       "    </tr>\n",
       "    <tr>\n",
       "      <th>4</th>\n",
       "      <td>AN01-20210104-154854_0004.jpg</td>\n",
       "      <td>0.929</td>\n",
       "      <td>nothing</td>\n",
       "      <td>nothing</td>\n",
       "      <td>[{'class': 'ultrasound', 'xmin': 365, 'ymin': ...</td>\n",
       "    </tr>\n",
       "  </tbody>\n",
       "</table>\n",
       "</div>"
      ],
      "text/plain": [
       "                        FileName  Time Recorded     Tool Overall Task  \\\n",
       "0  AN01-20210104-154854_0000.jpg          0.021  nothing      nothing   \n",
       "1  AN01-20210104-154854_0001.jpg          0.279  nothing      nothing   \n",
       "2  AN01-20210104-154854_0002.jpg          0.400  nothing      nothing   \n",
       "3  AN01-20210104-154854_0003.jpg          0.819  nothing      nothing   \n",
       "4  AN01-20210104-154854_0004.jpg          0.929  nothing      nothing   \n",
       "\n",
       "                                   Tool bounding box  \n",
       "0  [{'class': 'syringe', 'xmin': 482, 'ymin': 328...  \n",
       "1  [{'class': 'syringe', 'xmin': 482, 'ymin': 328...  \n",
       "2  [{'class': 'ultrasound', 'xmin': 365, 'ymin': ...  \n",
       "3  [{'class': 'ultrasound', 'xmin': 365, 'ymin': ...  \n",
       "4  [{'class': 'ultrasound', 'xmin': 365, 'ymin': ...  "
      ]
     },
     "execution_count": 4,
     "metadata": {},
     "output_type": "execute_result"
    }
   ],
   "source": [
    "data.head()"
   ]
  },
  {
   "cell_type": "markdown",
   "id": "088f5c61",
   "metadata": {},
   "source": [
    "#### Goal is to create a histogram containing how long each segment is\n"
   ]
  },
  {
   "cell_type": "markdown",
   "id": "364fbabf",
   "metadata": {},
   "source": [
    "Separate by task"
   ]
  },
  {
   "cell_type": "code",
   "execution_count": 5,
   "id": "9f2b2324",
   "metadata": {
    "scrolled": true
   },
   "outputs": [],
   "source": [
    "Task = []\n",
    "Task.append('nothing') \n",
    "Task.append('Cross-section')\n",
    "Task.append('insert_needle')\n",
    "Task.append('anesthetic')\n",
    "Task.append('insert_guidewire')\n",
    "Task.append('Long-axis')\n",
    "Task.append('scalpel')\n",
    "Task.append('dilator')\n",
    "Task.append('insert_catheter')\n",
    "Task.append('remove_guidewire')\n",
    "\n",
    "dataSeg = []\n",
    "for i in range(10):\n",
    "    dataSeg.append(data.loc[data['Overall Task'] == Task[i]])\n"
   ]
  },
  {
   "cell_type": "code",
   "execution_count": 9,
   "id": "02dea8b4",
   "metadata": {},
   "outputs": [
    {
     "data": {
      "text/html": [
       "<div>\n",
       "<style scoped>\n",
       "    .dataframe tbody tr th:only-of-type {\n",
       "        vertical-align: middle;\n",
       "    }\n",
       "\n",
       "    .dataframe tbody tr th {\n",
       "        vertical-align: top;\n",
       "    }\n",
       "\n",
       "    .dataframe thead th {\n",
       "        text-align: right;\n",
       "    }\n",
       "</style>\n",
       "<table border=\"1\" class=\"dataframe\">\n",
       "  <thead>\n",
       "    <tr style=\"text-align: right;\">\n",
       "      <th></th>\n",
       "      <th>FileName</th>\n",
       "      <th>Time Recorded</th>\n",
       "      <th>Tool</th>\n",
       "      <th>Overall Task</th>\n",
       "      <th>Tool bounding box</th>\n",
       "    </tr>\n",
       "  </thead>\n",
       "  <tbody>\n",
       "    <tr>\n",
       "      <th>3732</th>\n",
       "      <td>AN01-20210104-154854_3732.jpg</td>\n",
       "      <td>275.096</td>\n",
       "      <td>ultrasound</td>\n",
       "      <td>Cross-section</td>\n",
       "      <td>[{'class': 'ultrasound', 'xmin': 342, 'ymin': ...</td>\n",
       "    </tr>\n",
       "    <tr>\n",
       "      <th>3733</th>\n",
       "      <td>AN01-20210104-154854_3733.jpg</td>\n",
       "      <td>275.147</td>\n",
       "      <td>ultrasound</td>\n",
       "      <td>Cross-section</td>\n",
       "      <td>[{'class': 'ultrasound', 'xmin': 342, 'ymin': ...</td>\n",
       "    </tr>\n",
       "    <tr>\n",
       "      <th>3734</th>\n",
       "      <td>AN01-20210104-154854_3734.jpg</td>\n",
       "      <td>275.263</td>\n",
       "      <td>ultrasound</td>\n",
       "      <td>Cross-section</td>\n",
       "      <td>[{'class': 'ultrasound', 'xmin': 342, 'ymin': ...</td>\n",
       "    </tr>\n",
       "    <tr>\n",
       "      <th>3735</th>\n",
       "      <td>AN01-20210104-154854_3735.jpg</td>\n",
       "      <td>275.315</td>\n",
       "      <td>ultrasound</td>\n",
       "      <td>Cross-section</td>\n",
       "      <td>[{'class': 'ultrasound', 'xmin': 342, 'ymin': ...</td>\n",
       "    </tr>\n",
       "    <tr>\n",
       "      <th>3736</th>\n",
       "      <td>AN01-20210104-154854_3736.jpg</td>\n",
       "      <td>275.367</td>\n",
       "      <td>ultrasound</td>\n",
       "      <td>Cross-section</td>\n",
       "      <td>[{'class': 'ultrasound', 'xmin': 342, 'ymin': ...</td>\n",
       "    </tr>\n",
       "  </tbody>\n",
       "</table>\n",
       "</div>"
      ],
      "text/plain": [
       "                           FileName  Time Recorded        Tool   Overall Task  \\\n",
       "3732  AN01-20210104-154854_3732.jpg        275.096  ultrasound  Cross-section   \n",
       "3733  AN01-20210104-154854_3733.jpg        275.147  ultrasound  Cross-section   \n",
       "3734  AN01-20210104-154854_3734.jpg        275.263  ultrasound  Cross-section   \n",
       "3735  AN01-20210104-154854_3735.jpg        275.315  ultrasound  Cross-section   \n",
       "3736  AN01-20210104-154854_3736.jpg        275.367  ultrasound  Cross-section   \n",
       "\n",
       "                                      Tool bounding box  \n",
       "3732  [{'class': 'ultrasound', 'xmin': 342, 'ymin': ...  \n",
       "3733  [{'class': 'ultrasound', 'xmin': 342, 'ymin': ...  \n",
       "3734  [{'class': 'ultrasound', 'xmin': 342, 'ymin': ...  \n",
       "3735  [{'class': 'ultrasound', 'xmin': 342, 'ymin': ...  \n",
       "3736  [{'class': 'ultrasound', 'xmin': 342, 'ymin': ...  "
      ]
     },
     "execution_count": 9,
     "metadata": {},
     "output_type": "execute_result"
    }
   ],
   "source": [
    "dataSeg[1].shape\n",
    "count = []\n",
    "for i in range(10):\n",
    "    count.append(dataSeg[i].shape[0])\n",
    "    \n",
    "dataSeg[1].tail()"
   ]
  },
  {
   "cell_type": "code",
   "execution_count": 44,
   "id": "9483981b",
   "metadata": {},
   "outputs": [
    {
     "data": {
      "image/png": "[encoded data removed]",
      "text/plain": [
       "<Figure size 432x288 with 1 Axes>"
      ]
     },
     "metadata": {
      "needs_background": "light"
     },
     "output_type": "display_data"
    }
   ],
   "source": [
    "plt.figure()\n",
    "plt.scatter(np.linspace(0,len(count)-1,len(count)),count)\n",
    "plt.xlabel('Tasks')\n",
    "plt.xticks([1,2,3,4,5,6,7,8,9])\n",
    "plt.ylabel('FrameCount')\n",
    "plt.title('Histogram of tasks')\n",
    "plt.grid()"
   ]
  },
  {
   "cell_type": "markdown",
   "id": "10245654",
   "metadata": {},
   "source": [
    "##### Observations\n",
    "The nothing label and the insert needle tasks are heavily weighted. The difference is of two orders of magnitudes.\n",
    "\n"
   ]
  },
  {
   "cell_type": "code",
   "execution_count": null,
   "id": "998bb47c",
   "metadata": {},
   "outputs": [],
   "source": []
  }
 ],
 "metadata": {
  "kernelspec": {
   "display_name": "Python 3 (ipykernel)",
   "language": "python",
   "name": "python3"
  },
  "language_info": {
   "codemirror_mode": {
    "name": "ipython",
    "version": 3
   },
   "file_extension": ".py",
   "mimetype": "text/x-python",
   "name": "python",
   "nbconvert_exporter": "python",
   "pygments_lexer": "ipython3",
   "version": "3.8.8"
  }
 },
 "nbformat": 4,
 "nbformat_minor": 5
}
